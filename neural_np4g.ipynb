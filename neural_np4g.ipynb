{
  "cells": [
    {
      "cell_type": "markdown",
      "metadata": {
        "colab_type": "text",
        "id": "view-in-github"
      },
      "source": [
        "<a href=\"https://colab.research.google.com/github/Amplil/tag_language/blob/master/np4g_additional_test3.ipynb\" target=\"_parent\"><img src=\"https://colab.research.google.com/assets/colab-badge.svg\" alt=\"Open In Colab\"/></a>"
      ]
    },
    {
      "cell_type": "code",
      "execution_count": null,
      "metadata": {
        "colab": {
          "base_uri": "https://localhost:8080/"
        },
        "id": "jV8rDIhRXGUU",
        "outputId": "7b167b6d-fdec-4a95-8389-bbb42157206d"
      },
      "outputs": [
        {
          "name": "stdout",
          "output_type": "stream",
          "text": [
            "Python 3.7.15\n"
          ]
        }
      ],
      "source": [
        "! python -V"
      ]
    },
    {
      "cell_type": "code",
      "execution_count": null,
      "metadata": {
        "colab": {
          "base_uri": "https://localhost:8080/"
        },
        "id": "R0YRCr7gumIi",
        "outputId": "4ecdf349-274b-4f56-eb71-9c2038668874"
      },
      "outputs": [
        {
          "name": "stdout",
          "output_type": "stream",
          "text": [
            "Mounted at /content/drive\n"
          ]
        }
      ],
      "source": [
        "from google.colab import drive\n",
        "drive.mount('/content/drive')"
      ]
    },
    {
      "cell_type": "code",
      "execution_count": null,
      "metadata": {
        "colab": {
          "base_uri": "https://localhost:8080/"
        },
        "id": "zPhT98YigIjd",
        "outputId": "46478748-f253-49a4-b152-60d0c3dbbe2a"
      },
      "outputs": [
        {
          "name": "stdout",
          "output_type": "stream",
          "text": [
            "/content/drive/MyDrive/Colab Notebooks/tag_language\n"
          ]
        }
      ],
      "source": [
        "cd \"/content/drive/MyDrive/Colab Notebooks/tag_language\""
      ]
    },
    {
      "cell_type": "code",
      "execution_count": 1,
      "metadata": {
        "id": "OEGj1Du_rXBU"
      },
      "outputs": [],
      "source": [
        "#import np4g\n",
        "from neural_np4g import *"
      ]
    },
    {
      "cell_type": "code",
      "execution_count": 16,
      "metadata": {},
      "outputs": [
        {
          "data": {
            "text/plain": [
              "['[0,', '1]']"
            ]
          },
          "execution_count": 16,
          "metadata": {},
          "output_type": "execute_result"
        }
      ],
      "source": [
        "NetworkProgram([0,1],[(0,split_)],[('S',0)]).run()"
      ]
    },
    {
      "cell_type": "code",
      "execution_count": 29,
      "metadata": {},
      "outputs": [],
      "source": [
        "node1=[(0,split_)]\n",
        "edge1=[('S',0)]\n",
        "np1=NetworkProgram([0,1],node1,edge1)"
      ]
    },
    {
      "cell_type": "code",
      "execution_count": 31,
      "metadata": {},
      "outputs": [
        {
          "data": {
            "text/plain": [
              "['[0,', '1]']"
            ]
          },
          "execution_count": 31,
          "metadata": {},
          "output_type": "execute_result"
        }
      ],
      "source": [
        "np1.run()"
      ]
    },
    {
      "cell_type": "code",
      "execution_count": 32,
      "metadata": {},
      "outputs": [
        {
          "name": "stdout",
          "output_type": "stream",
          "text": [
            "nodes:  [('S', {'ele': [0, 1]}), (0, {'ele': <function split_ at 0x0000021AF91A5310>})]\n",
            "edges:  [('S', 0, {'ele': [0, 1]})]\n"
          ]
        },
        {
          "data": {
            "image/png": "[encoded data removed]",
            "text/plain": [
              "<Figure size 432x288 with 1 Axes>"
            ]
          },
          "metadata": {},
          "output_type": "display_data"
        }
      ],
      "source": [
        "np1.network_show()"
      ]
    },
    {
      "cell_type": "code",
      "execution_count": 20,
      "metadata": {},
      "outputs": [
        {
          "data": {
            "text/plain": [
              "[[0, 1]]"
            ]
          },
          "execution_count": 20,
          "metadata": {},
          "output_type": "execute_result"
        }
      ],
      "source": [
        "DiGraphNode(np1.network,0).in_ele_list"
      ]
    },
    {
      "cell_type": "markdown",
      "metadata": {},
      "source": [
        "### sig, tanh func"
      ]
    },
    {
      "cell_type": "code",
      "execution_count": 2,
      "metadata": {},
      "outputs": [],
      "source": [
        "from neural_np4g import *"
      ]
    },
    {
      "cell_type": "code",
      "execution_count": 21,
      "metadata": {},
      "outputs": [],
      "source": [
        "inputs=[1,0,0,0]"
      ]
    },
    {
      "cell_type": "code",
      "execution_count": 2,
      "metadata": {},
      "outputs": [],
      "source": [
        "def tanh(gn): # tanh関数\n",
        "    x=np.sum([gn.in_w_list[i]*gn.in_val_list[i] for i in range(gn.in_deg)]) # w1*in1+w2*in2+...+wt*int\n",
        "    result = np.tanh(x)\n",
        "    return result"
      ]
    },
    {
      "cell_type": "code",
      "execution_count": 3,
      "metadata": {},
      "outputs": [],
      "source": [
        "node2=[('x0','in'),('h0',tanh),('y0',out_)]\n",
        "edge2=[('x0','h0'),('h0','y0')]\n",
        "np2=NetworkProgram(node2,edge2)"
      ]
    },
    {
      "cell_type": "code",
      "execution_count": 4,
      "metadata": {},
      "outputs": [
        {
          "name": "stdout",
          "output_type": "stream",
          "text": [
            "nodes:  [('x0', {'ele': 'in', 'val': 0.0}), ('h0', {'ele': <function tanh at 0x0000020913D6AF70>, 'val': 0.0}), ('y0', {'ele': <function out_ at 0x00000209182A9EE0>, 'val': 0.0})]\n",
            "edges:  [('x0', 'h0', {'val': 0.0, 'weight': 0.027890103056842586}), ('h0', 'y0', {'val': 0.0, 'weight': 0.4487744645975891})]\n"
          ]
        },
        {
          "data": {
            "image/png": "[encoded data removed]",
            "text/plain": [
              "<Figure size 432x288 with 1 Axes>"
            ]
          },
          "metadata": {},
          "output_type": "display_data"
        }
      ],
      "source": [
        "np2.network_show()"
      ]
    },
    {
      "cell_type": "code",
      "execution_count": 8,
      "metadata": {},
      "outputs": [
        {
          "data": {
            "text/plain": [
              "[0.0]"
            ]
          },
          "execution_count": 8,
          "metadata": {},
          "output_type": "execute_result"
        }
      ],
      "source": [
        "np2.nodes[2].in_val_list"
      ]
    },
    {
      "cell_type": "code",
      "execution_count": 5,
      "metadata": {},
      "outputs": [
        {
          "name": "stdout",
          "output_type": "stream",
          "text": [
            "result node: h0 , value: 0.027882873794316747\n",
            "result node: y0 , value: 0.0\n",
            "out:  [0.0]\n",
            "result node: h0 , value: 0.0\n",
            "result node: y0 , value: 0.012513121758486645\n",
            "out:  [0.012513121758486645]\n",
            "result node: h0 , value: 0.0\n",
            "result node: y0 , value: 0.0\n",
            "out:  [0.0]\n",
            "result node: h0 , value: 0.0\n",
            "result node: y0 , value: 0.0\n",
            "out:  [0.0]\n",
            "result node: h0 , value: 0.0\n",
            "result node: y0 , value: 0.0\n",
            "out:  [0.0]\n"
          ]
        }
      ],
      "source": [
        "printx.on()\n",
        "np2.run([[1]])"
      ]
    },
    {
      "cell_type": "markdown",
      "metadata": {},
      "source": [
        "### 全結合層"
      ]
    },
    {
      "cell_type": "code",
      "execution_count": 3,
      "metadata": {},
      "outputs": [],
      "source": [
        "node3=[('x0','in'),('x1','in'),('x2','in'),\n",
        "       ('h0',tanh),('h1',tanh),('h2',tanh),\n",
        "       ('y0',out_),('y1',out_),('y2',out_)]\n",
        "edge3=[('x0','h0'),('x0','h1'),('x0','h2'),\n",
        "       ('x1','h0'),('x1','h1'),('x1','h2'),\n",
        "       ('x2','h0'),('x2','h1'),('x2','h2'),\n",
        "       ('h0','y0'),('h0','y1'),('h0','y2'),\n",
        "       ('h1','y0'),('h1','y1'),('h1','y2'),\n",
        "       ('h2','y0'),('h2','y1'),('h2','y2')]\n",
        "np3=NetworkProgram(node3,edge3)"
      ]
    },
    {
      "cell_type": "code",
      "execution_count": 4,
      "metadata": {},
      "outputs": [],
      "source": [
        "# 重みを指定\n",
        "np3.network.add_weighted_edges_from(\n",
        "    [('x0','h0',0),('x0','h1',1),('x0','h2',0),\n",
        "     ('x1','h0',1),('x1','h1',0),('x1','h2',0),\n",
        "     ('x2','h0',0),('x2','h1',0),('x2','h2',0),\n",
        "     ('h0','y0',1),('h0','y1',0),('h0','y2',0),\n",
        "     ('h1','y0',0),('h1','y1',1),('h1','y2',0),\n",
        "     ('h2','y0',0),('h2','y1',0),('h2','y2',1)])\n"
      ]
    },
    {
      "cell_type": "code",
      "execution_count": 5,
      "metadata": {},
      "outputs": [
        {
          "name": "stdout",
          "output_type": "stream",
          "text": [
            "nodes:  [('x0', {'ele': 'in', 'val': 0.0}), ('x1', {'ele': 'in', 'val': 0.0}), ('x2', {'ele': 'in', 'val': 0.0}), ('h0', {'ele': <function tanh at 0x000002499EA4B940>, 'val': 0.0}), ('h1', {'ele': <function tanh at 0x000002499EA4B940>, 'val': 0.0}), ('h2', {'ele': <function tanh at 0x000002499EA4B940>, 'val': 0.0}), ('y0', {'ele': <function out_ at 0x000002499EA4B9D0>, 'val': 0.0}), ('y1', {'ele': <function out_ at 0x000002499EA4B9D0>, 'val': 0.0}), ('y2', {'ele': <function out_ at 0x000002499EA4B9D0>, 'val': 0.0})]\n",
            "edges:  [('x0', 'h0', {'val': 0.0, 'weight': 0}), ('x0', 'h1', {'val': 0.0, 'weight': 1}), ('x0', 'h2', {'val': 0.0, 'weight': 0}), ('x1', 'h0', {'val': 0.0, 'weight': 1}), ('x1', 'h1', {'val': 0.0, 'weight': 0}), ('x1', 'h2', {'val': 0.0, 'weight': 0}), ('x2', 'h0', {'val': 0.0, 'weight': 0}), ('x2', 'h1', {'val': 0.0, 'weight': 0}), ('x2', 'h2', {'val': 0.0, 'weight': 0}), ('h0', 'y0', {'val': 0.0, 'weight': 1}), ('h0', 'y1', {'val': 0.0, 'weight': 0}), ('h0', 'y2', {'val': 0.0, 'weight': 0}), ('h1', 'y0', {'val': 0.0, 'weight': 0}), ('h1', 'y1', {'val': 0.0, 'weight': 1}), ('h1', 'y2', {'val': 0.0, 'weight': 0}), ('h2', 'y0', {'val': 0.0, 'weight': 0}), ('h2', 'y1', {'val': 0.0, 'weight': 0}), ('h2', 'y2', {'val': 0.0, 'weight': 1})]\n"
          ]
        },
        {
          "data": {
            "image/png": "[encoded data removed]",
            "text/plain": [
              "<Figure size 432x288 with 1 Axes>"
            ]
          },
          "metadata": {},
          "output_type": "display_data"
        }
      ],
      "source": [
        "np3.network_show() # 今後、見やすくする"
      ]
    },
    {
      "cell_type": "code",
      "execution_count": 6,
      "metadata": {},
      "outputs": [
        {
          "name": "stdout",
          "output_type": "stream",
          "text": [
            "result node: h0 , value: 0.0\n",
            "result node: h1 , value: 0.7615941559557649\n",
            "result node: h2 , value: 0.0\n",
            "result node: y0 , value: 0.0\n",
            "result node: y1 , value: 0.0\n",
            "result node: y2 , value: 0.0\n",
            "output:  [0.0, 0.0, 0.0]\n",
            "result node: h0 , value: 0.7615941559557649\n",
            "result node: h1 , value: 0.0\n",
            "result node: h2 , value: 0.0\n",
            "result node: y0 , value: 0.0\n",
            "result node: y1 , value: 0.7615941559557649\n",
            "result node: y2 , value: 0.0\n",
            "output:  [0.0, 0.7615941559557649, 0.0]\n",
            "result node: h0 , value: 0.0\n",
            "result node: h1 , value: 0.0\n",
            "result node: h2 , value: 0.0\n",
            "result node: y0 , value: 0.7615941559557649\n",
            "result node: y1 , value: 0.0\n",
            "result node: y2 , value: 0.0\n",
            "output:  [0.7615941559557649, 0.0, 0.0]\n",
            "result node: h0 , value: 0.0\n",
            "result node: h1 , value: 0.0\n",
            "result node: h2 , value: 0.0\n",
            "result node: y0 , value: 0.0\n",
            "result node: y1 , value: 0.0\n",
            "result node: y2 , value: 0.0\n",
            "output:  [0.0, 0.0, 0.0]\n",
            "result node: h0 , value: 0.0\n",
            "result node: h1 , value: 0.0\n",
            "result node: h2 , value: 0.0\n",
            "result node: y0 , value: 0.0\n",
            "result node: y1 , value: 0.0\n",
            "result node: y2 , value: 0.0\n",
            "output:  [0.0, 0.0, 0.0]\n"
          ]
        },
        {
          "data": {
            "text/plain": [
              "[[0.0, 0.0, 0.0],\n",
              " [0.0, 0.7615941559557649, 0.0],\n",
              " [0.7615941559557649, 0.0, 0.0],\n",
              " [0.0, 0.0, 0.0],\n",
              " [0.0, 0.0, 0.0]]"
            ]
          },
          "execution_count": 6,
          "metadata": {},
          "output_type": "execute_result"
        }
      ],
      "source": [
        "printx.on()\n",
        "inputs=[[1,0,0],[0,1,0]]\n",
        "np3.run(inputs)"
      ]
    },
    {
      "cell_type": "code",
      "execution_count": 4,
      "metadata": {},
      "outputs": [
        {
          "data": {
            "text/plain": [
              "NodeView(('x0', 'h0', 'y0'))"
            ]
          },
          "execution_count": 4,
          "metadata": {},
          "output_type": "execute_result"
        }
      ],
      "source": [
        "np2.network.nodes"
      ]
    },
    {
      "cell_type": "code",
      "execution_count": 6,
      "metadata": {},
      "outputs": [
        {
          "data": {
            "text/plain": [
              "AdjacencyView({'x0': {}, 'h0': {'x0': {'val': 0.7, 'weight': 0.3012728409215528}}, 'y0': {'h0': {'val': 0.5, 'weight': 0.8754040410634386}}})"
            ]
          },
          "execution_count": 6,
          "metadata": {},
          "output_type": "execute_result"
        }
      ],
      "source": [
        "np2.network.pred"
      ]
    },
    {
      "cell_type": "code",
      "execution_count": 35,
      "metadata": {},
      "outputs": [],
      "source": [
        "np2.network.add_weighted_edges_from(list(map(lambda tup: tup+(0.,) ,np2.network.edges)))"
      ]
    },
    {
      "cell_type": "code",
      "execution_count": 7,
      "metadata": {},
      "outputs": [
        {
          "name": "stdout",
          "output_type": "stream",
          "text": [
            "nodes:  [('x0', {'ele': 'in', 'val': 0.7}), ('h0', {'ele': <function sig at 0x00000173CC691430>, 'val': 0.0}), ('y0', {'ele': 'out', 'val': 0.0})]\n",
            "edges:  [('x0', 'h0', {'val': 0.7, 'weight': 0.3012728409215528}), ('h0', 'y0', {'val': 0.5, 'weight': 0.8754040410634386})]\n"
          ]
        },
        {
          "data": {
            "image/png": "[encoded data removed]",
            "text/plain": [
              "<Figure size 432x288 with 1 Axes>"
            ]
          },
          "metadata": {},
          "output_type": "display_data"
        }
      ],
      "source": [
        "np2.network_show()"
      ]
    },
    {
      "cell_type": "code",
      "execution_count": 6,
      "metadata": {},
      "outputs": [
        {
          "data": {
            "text/plain": [
              "'out'"
            ]
          },
          "execution_count": 6,
          "metadata": {},
          "output_type": "execute_result"
        }
      ],
      "source": [
        "np2.nodes[2].ele"
      ]
    },
    {
      "cell_type": "code",
      "execution_count": 8,
      "metadata": {},
      "outputs": [
        {
          "data": {
            "text/plain": [
              "0.7"
            ]
          },
          "execution_count": 8,
          "metadata": {},
          "output_type": "execute_result"
        }
      ],
      "source": [
        "np2.nodes[0].val"
      ]
    },
    {
      "cell_type": "code",
      "execution_count": 7,
      "metadata": {},
      "outputs": [
        {
          "data": {
            "text/plain": [
              "0.7"
            ]
          },
          "execution_count": 7,
          "metadata": {},
          "output_type": "execute_result"
        }
      ],
      "source": [
        "np2.nodes[0].update_val(0.7)"
      ]
    },
    {
      "cell_type": "code",
      "execution_count": 8,
      "metadata": {},
      "outputs": [],
      "source": [
        "np2.nodes[0].val=0.5"
      ]
    },
    {
      "cell_type": "code",
      "execution_count": 24,
      "metadata": {},
      "outputs": [],
      "source": [
        "np2.network.nodes['x0']['val']=0.7"
      ]
    },
    {
      "cell_type": "code",
      "execution_count": 17,
      "metadata": {},
      "outputs": [
        {
          "data": {
            "text/plain": [
              "0.7"
            ]
          },
          "execution_count": 17,
          "metadata": {},
          "output_type": "execute_result"
        }
      ],
      "source": [
        "np2.in_nodes[0].val"
      ]
    },
    {
      "cell_type": "code",
      "execution_count": 7,
      "metadata": {},
      "outputs": [
        {
          "ename": "TypeError",
          "evalue": "update_val() takes 2 positional arguments but 3 were given",
          "output_type": "error",
          "traceback": [
            "\u001b[1;31m---------------------------------------------------------------------------\u001b[0m",
            "\u001b[1;31mTypeError\u001b[0m                                 Traceback (most recent call last)",
            "Input \u001b[1;32mIn [7]\u001b[0m, in \u001b[0;36m<cell line: 1>\u001b[1;34m()\u001b[0m\n\u001b[1;32m----> 1\u001b[0m \u001b[43mnp2\u001b[49m\u001b[38;5;241;43m.\u001b[39;49m\u001b[43mrun\u001b[49m\u001b[43m(\u001b[49m\u001b[43m[\u001b[49m\u001b[43m[\u001b[49m\u001b[38;5;241;43m0.7\u001b[39;49m\u001b[43m]\u001b[49m\u001b[43m]\u001b[49m\u001b[43m)\u001b[49m\n",
            "File \u001b[1;32mc:\\Users\\aikot\\Documents\\program_local\\neural-np4g\\neural_np4g.py:372\u001b[0m, in \u001b[0;36mNetworkProgram.run\u001b[1;34m(self, inputs)\u001b[0m\n\u001b[0;32m    363\u001b[0m \u001b[38;5;124;03m\"\"\"\u001b[39;00m\n\u001b[0;32m    364\u001b[0m \u001b[38;5;124;03mif not 'S' in list(self.network.nodes):\u001b[39;00m\n\u001b[0;32m    365\u001b[0m \u001b[38;5;124;03m    printx.out(\"'S' node doesn't exist\")\u001b[39;00m\n\u001b[1;32m   (...)\u001b[0m\n\u001b[0;32m    369\u001b[0m \u001b[38;5;124;03mprintx.out(\"next_node_list:\",next_node_list)\u001b[39;00m\n\u001b[0;32m    370\u001b[0m \u001b[38;5;124;03m\"\"\"\u001b[39;00m\n\u001b[0;32m    371\u001b[0m \u001b[38;5;28;01mfor\u001b[39;00m i \u001b[38;5;129;01min\u001b[39;00m \u001b[38;5;28mrange\u001b[39m(\u001b[38;5;241m10\u001b[39m):\n\u001b[1;32m--> 372\u001b[0m     \u001b[38;5;28;43mself\u001b[39;49m\u001b[38;5;241;43m.\u001b[39;49m\u001b[43mrun_tick\u001b[49m\u001b[43m(\u001b[49m\u001b[43minputs\u001b[49m\u001b[43m[\u001b[49m\u001b[43mi\u001b[49m\u001b[43m]\u001b[49m\u001b[43m \u001b[49m\u001b[38;5;28;43;01mif\u001b[39;49;00m\u001b[43m \u001b[49m\u001b[38;5;28;43mlen\u001b[39;49m\u001b[43m(\u001b[49m\u001b[43minputs\u001b[49m\u001b[43m)\u001b[49m\u001b[38;5;241;43m>\u001b[39;49m\u001b[43mi\u001b[49m\u001b[43m \u001b[49m\u001b[38;5;28;43;01melse\u001b[39;49;00m\u001b[43m \u001b[49m\u001b[43m[\u001b[49m\u001b[43m]\u001b[49m\u001b[43m)\u001b[49m \u001b[38;5;66;03m# inputが存在するまで\u001b[39;00m\n\u001b[0;32m    373\u001b[0m     printx\u001b[38;5;241m.\u001b[39mout(\u001b[38;5;124m\"\u001b[39m\u001b[38;5;124mout: \u001b[39m\u001b[38;5;124m\"\u001b[39m,[gn\u001b[38;5;241m.\u001b[39mval \u001b[38;5;28;01mfor\u001b[39;00m gn \u001b[38;5;129;01min\u001b[39;00m \u001b[38;5;28mself\u001b[39m\u001b[38;5;241m.\u001b[39mnodes \u001b[38;5;28;01mif\u001b[39;00m gn\u001b[38;5;241m.\u001b[39mele\u001b[38;5;241m==\u001b[39m\u001b[38;5;124m\"\u001b[39m\u001b[38;5;124mout\u001b[39m\u001b[38;5;124m\"\u001b[39m])\n",
            "File \u001b[1;32mc:\\Users\\aikot\\Documents\\program_local\\neural-np4g\\neural_np4g.py:330\u001b[0m, in \u001b[0;36mNetworkProgram.run_tick\u001b[1;34m(self, input)\u001b[0m\n\u001b[0;32m    328\u001b[0m \u001b[38;5;28;01mfor\u001b[39;00m gn \u001b[38;5;129;01min\u001b[39;00m \u001b[38;5;28mself\u001b[39m\u001b[38;5;241m.\u001b[39mnodes:\n\u001b[0;32m    329\u001b[0m     \u001b[38;5;28;01mif\u001b[39;00m gn\u001b[38;5;241m.\u001b[39mele\u001b[38;5;241m==\u001b[39m\u001b[38;5;124m'\u001b[39m\u001b[38;5;124min\u001b[39m\u001b[38;5;124m'\u001b[39m \u001b[38;5;129;01mand\u001b[39;00m \u001b[38;5;28minput\u001b[39m\u001b[38;5;241m!=\u001b[39m[]:\n\u001b[1;32m--> 330\u001b[0m         \u001b[43mgn\u001b[49m\u001b[38;5;241;43m.\u001b[39;49m\u001b[43mupdate_val\u001b[49m\u001b[43m(\u001b[49m\u001b[38;5;28;43mself\u001b[39;49m\u001b[43m,\u001b[49m\u001b[38;5;28;43minput\u001b[39;49m\u001b[38;5;241;43m.\u001b[39;49m\u001b[43mpop\u001b[49m\u001b[43m(\u001b[49m\u001b[38;5;241;43m0\u001b[39;49m\u001b[43m)\u001b[49m\u001b[43m)\u001b[49m\n\u001b[0;32m    331\u001b[0m     gn\u001b[38;5;241m.\u001b[39mnode_val_out() \u001b[38;5;66;03m# ノードの値を出力エッジに反映させる\u001b[39;00m\n\u001b[0;32m    333\u001b[0m \u001b[38;5;28;01mfor\u001b[39;00m gn \u001b[38;5;129;01min\u001b[39;00m \u001b[38;5;28mself\u001b[39m\u001b[38;5;241m.\u001b[39mnodes:\n",
            "\u001b[1;31mTypeError\u001b[0m: update_val() takes 2 positional arguments but 3 were given"
          ]
        }
      ],
      "source": [
        "np2.run([[0.7]])"
      ]
    },
    {
      "cell_type": "code",
      "execution_count": null,
      "metadata": {},
      "outputs": [],
      "source": [
        "np2.run(inputs) # runにinputsが入るようにする"
      ]
    },
    {
      "cell_type": "code",
      "execution_count": 11,
      "metadata": {},
      "outputs": [
        {
          "data": {
            "text/plain": [
              "['S', 0]"
            ]
          },
          "execution_count": 11,
          "metadata": {},
          "output_type": "execute_result"
        }
      ],
      "source": [
        "list(np2.network.nodes)"
      ]
    },
    {
      "cell_type": "code",
      "execution_count": 25,
      "metadata": {},
      "outputs": [],
      "source": [
        "gn2=DiGraphNode(np2.network,0)"
      ]
    },
    {
      "cell_type": "code",
      "execution_count": 17,
      "metadata": {},
      "outputs": [
        {
          "data": {
            "text/plain": [
              "0"
            ]
          },
          "execution_count": 17,
          "metadata": {},
          "output_type": "execute_result"
        }
      ],
      "source": [
        "gn2.node"
      ]
    },
    {
      "cell_type": "code",
      "execution_count": 26,
      "metadata": {},
      "outputs": [],
      "source": [
        "gn2.G.edges['S',gn2.node]['weight']=0.7"
      ]
    },
    {
      "cell_type": "code",
      "execution_count": 19,
      "metadata": {},
      "outputs": [
        {
          "data": {
            "text/plain": [
              "[0.7]"
            ]
          },
          "execution_count": 19,
          "metadata": {},
          "output_type": "execute_result"
        }
      ],
      "source": [
        "gn2.in_w_list"
      ]
    },
    {
      "cell_type": "code",
      "execution_count": 39,
      "metadata": {},
      "outputs": [
        {
          "data": {
            "text/plain": [
              "3"
            ]
          },
          "execution_count": 39,
          "metadata": {},
          "output_type": "execute_result"
        }
      ],
      "source": [
        "np.sum([1,2])"
      ]
    },
    {
      "cell_type": "code",
      "execution_count": 26,
      "metadata": {},
      "outputs": [
        {
          "data": {
            "text/plain": [
              "True"
            ]
          },
          "execution_count": 26,
          "metadata": {},
          "output_type": "execute_result"
        }
      ],
      "source": [
        "isinstance(1,(int,float))"
      ]
    },
    {
      "cell_type": "code",
      "execution_count": 28,
      "metadata": {},
      "outputs": [
        {
          "data": {
            "text/plain": [
              "False"
            ]
          },
          "execution_count": 28,
          "metadata": {},
          "output_type": "execute_result"
        }
      ],
      "source": [
        "isinstance(\"\",(int,float))"
      ]
    },
    {
      "cell_type": "code",
      "execution_count": 30,
      "metadata": {},
      "outputs": [
        {
          "data": {
            "text/plain": [
              "(1, 2, 3, 4)"
            ]
          },
          "execution_count": 30,
          "metadata": {},
          "output_type": "execute_result"
        }
      ],
      "source": [
        "(1,2)+(3,4)"
      ]
    },
    {
      "cell_type": "code",
      "execution_count": 36,
      "metadata": {},
      "outputs": [
        {
          "data": {
            "text/plain": [
              "float"
            ]
          },
          "execution_count": 36,
          "metadata": {},
          "output_type": "execute_result"
        }
      ],
      "source": [
        "type(0.)"
      ]
    },
    {
      "cell_type": "code",
      "execution_count": 31,
      "metadata": {},
      "outputs": [
        {
          "data": {
            "text/plain": [
              "OutEdgeView([('S', 0)])"
            ]
          },
          "execution_count": 31,
          "metadata": {},
          "output_type": "execute_result"
        }
      ],
      "source": [
        "np2.network.edges"
      ]
    },
    {
      "cell_type": "code",
      "execution_count": 36,
      "metadata": {},
      "outputs": [
        {
          "data": {
            "text/plain": [
              "0.5845312135393647"
            ]
          },
          "execution_count": 36,
          "metadata": {},
          "output_type": "execute_result"
        }
      ],
      "source": [
        "np.random.rand()"
      ]
    },
    {
      "cell_type": "markdown",
      "metadata": {},
      "source": [
        "### Echo State Network"
      ]
    },
    {
      "cell_type": "code",
      "execution_count": 5,
      "metadata": {},
      "outputs": [],
      "source": [
        "import numpy as np\n",
        "import matplotlib.pyplot as plt"
      ]
    },
    {
      "cell_type": "code",
      "execution_count": 6,
      "metadata": {},
      "outputs": [],
      "source": [
        "class EchoStateNetwork:\n",
        "\tdef __init__(self, reservoir_size, spectral_radius=0.9):\n",
        "\t\t# Initialize network parameters\n",
        "\t\tself.reservoir_size = reservoir_size\n",
        "\n",
        "\t\t# Reservoir weights\n",
        "\t\tself.W_res = np.random.rand(reservoir_size, reservoir_size) - 0.5\n",
        "\t\tself.W_res *= spectral_radius / \\\n",
        "\t\t\tnp.max(np.abs(np.linalg.eigvals(self.W_res)))\n",
        "\n",
        "\t\t# Input weights\n",
        "\t\tself.W_in = np.random.rand(reservoir_size, 1) - 0.5\n",
        "\n",
        "\t\t# Output weights (to be trained)\n",
        "\t\tself.W_out = None\n",
        "\n",
        "\tdef train(self, input_data, target_data):\n",
        "\t\t# Run reservoir with input data\n",
        "\t\treservoir_states = self.run_reservoir(input_data)\n",
        "\n",
        "\t\t# Train the output weights using pseudo-inverse\n",
        "\t\tself.W_out = np.dot(np.linalg.pinv(reservoir_states), target_data)\n",
        "\n",
        "\tdef predict(self, input_data):\n",
        "\t\t# Run reservoir with input data\n",
        "\t\treservoir_states = self.run_reservoir(input_data)\n",
        "\n",
        "\t\t# Make predictions using the trained output weights\n",
        "\t\tpredictions = np.dot(reservoir_states, self.W_out)\n",
        "\n",
        "\t\treturn predictions\n",
        "\n",
        "\tdef run_reservoir(self, input_data):\n",
        "\t\t# Initialize reservoir states\n",
        "\t\treservoir_states = np.zeros((len(input_data), self.reservoir_size))\n",
        "\n",
        "\t\t# Run the reservoir\n",
        "\t\tfor t in range(1, len(input_data)):\n",
        "\t\t\treservoir_states[t, :] = np.tanh(\n",
        "\t\t\t\tnp.dot(\n",
        "\t\t\t\t\tself.W_res, reservoir_states[t - 1, :]) + np.dot(self.W_in, input_data[t])\n",
        "\t\t\t)\n",
        "\n",
        "\t\treturn reservoir_states"
      ]
    },
    {
      "cell_type": "code",
      "execution_count": 7,
      "metadata": {},
      "outputs": [],
      "source": [
        "# Generate synthetic data (input: random noise, target: sine wave)\n",
        "time = np.arange(0, 20, 0.1)\n",
        "noise = 0.1 * np.random.rand(len(time))\n",
        "sine_wave_target = np.sin(time)\n",
        "\n",
        "# Create an Echo State Network\n",
        "reservoir_size = 50\n",
        "\n",
        "esn = EchoStateNetwork(reservoir_size)"
      ]
    },
    {
      "cell_type": "code",
      "execution_count": 8,
      "metadata": {},
      "outputs": [],
      "source": [
        "# Prepare training data\n",
        "training_input = noise[:, None]\n",
        "training_target = sine_wave_target[:, None]\n",
        "\n",
        "# Train the ESN\n",
        "esn.train(training_input, training_target)\n",
        "\n",
        "# Generate test data (similar to training data for simplicity)\n",
        "test_input = noise[:, None]"
      ]
    },
    {
      "cell_type": "code",
      "execution_count": 9,
      "metadata": {},
      "outputs": [],
      "source": [
        "# Make predictions\n",
        "predictions = esn.predict(test_input)"
      ]
    },
    {
      "cell_type": "code",
      "execution_count": 10,
      "metadata": {},
      "outputs": [
        {
          "data": {
            "image/png": "[encoded data removed]",
            "text/plain": [
              "<Figure size 720x432 with 1 Axes>"
            ]
          },
          "metadata": {
            "needs_background": "light"
          },
          "output_type": "display_data"
        }
      ],
      "source": [
        "# Plot the results\n",
        "plt.figure(figsize=(10, 6))\n",
        "plt.plot(time, sine_wave_target, label='True Sine Wave',\n",
        "\t\tlinestyle='--', marker='o')\n",
        "plt.plot(time, predictions, label='ESN Prediction', linestyle='--', marker='o')\n",
        "plt.xlabel('Time')\n",
        "plt.ylabel('Amplitude')\n",
        "plt.legend()\n",
        "plt.title('Echo State Network Learning to Generate Sine Wave')\n",
        "plt.show()"
      ]
    },
    {
      "cell_type": "code",
      "execution_count": null,
      "metadata": {},
      "outputs": [],
      "source": [
        "# 有限オートマトンの関数\n",
        "def fsn(gn):\n",
        "    # Define the states\n",
        "    states = ['S', '0', '1']\n",
        "\n",
        "    # Define the input symbols\n",
        "    input_symbols = ['0', '1']\n",
        "\n",
        "    # Define the transition function\n",
        "    transition_function = {}\n",
        "    for state in states:\n",
        "        transition_function[state] = {}\n",
        "        for symbol in input_symbols:\n",
        "            if state == 'S':\n",
        "                if symbol == '0':\n",
        "                    transition_function[state][symbol] = '0'\n",
        "                else:\n",
        "                    transition_function[state][symbol] = '1'\n",
        "            elif state == '0':\n",
        "                if symbol == '0':\n",
        "                    transition_function[state][symbol] = '0'\n",
        "                else:\n",
        "                    transition_function[state][symbol] = 'S'\n",
        "            elif state == '1':\n",
        "                if symbol == '0':\n",
        "                    transition_function[state][symbol] = 'S'\n",
        "                else:\n",
        "                    transition_function[state][symbol] = '1'\n",
        "\n",
        "    # Define the initial state\n",
        "    initial_state = 'S'\n",
        "    # Define the set of final states\n",
        "    final_states = ['S']\n",
        "    # Return the finite state machine\n",
        "    return (states, input_symbols, transition_function, initial_state, final_states)"
      ]
    },
    {
      "cell_type": "code",
      "execution_count": 2,
      "metadata": {
        "id": "tP5Y_poaxd6F"
      },
      "outputs": [],
      "source": [
        "phase_num=4\n",
        "node_num=15\n",
        "save_name='np4g_additional_test3_'+str(phase_num)+'_'+str(node_num)+'_20221130'"
      ]
    },
    {
      "cell_type": "code",
      "execution_count": 3,
      "metadata": {
        "id": "T-_mTD2jbP6W"
      },
      "outputs": [],
      "source": [
        "import asyncio\n",
        "import time\n",
        "import dill\n",
        "\n",
        "class SeekNetSingle(): # ネットワークが1つ生成されたら終了\n",
        "    def __init__(self):\n",
        "        self.flag=1\n",
        "        #self.result_num=0 # 作成できたネットワークの数の結果\n",
        "        self.ans_array=[]\n",
        "        self.progress_time=0\n",
        "        self.runtime_array=[]\n",
        "        self.repeat_num=0 # 同じ段階を繰り返した回数\n",
        "\n",
        "    def start(self,timelimit=3600,interval=0):\n",
        "        self.timelimit=timelimit\n",
        "        self.interval=interval\n",
        "        self.start_time=time.time()\n",
        "        asyncio.new_event_loop().run_in_executor(None, self.seek_net)\n",
        "        time.sleep(self.timelimit)\n",
        "\n",
        "        print(\"終了： \",time.time()-self.start_time+self.progress_time,\"秒経過\\n\\n\")\n",
        "        print(\"作成できたネットワーク:\\n\",self.ans_array)\n",
        "        print(\"各ネットワークの各段階でかかった時間:\\n\",self.runtime_array)\n",
        "        self.progress_time+=time.time()-self.start_time # 今回の計算時間を次回に反映させる\n",
        "        self.repeat_num+=1 # プログラムを終了する前に加算\n",
        "        dill.dump_session(save_name+'.pkl')\n",
        "\n",
        "    def seek_net(self):\n",
        "        if self.flag==1:\n",
        "            print(\"段階1：\")\n",
        "            self.gnps=NP4Gstruct(node_num,split_,sum_,equal,control_gate)\n",
        "            self.runtime_array.append([])\n",
        "            if phase_num!=3:\n",
        "                self.node_body1,self.edge_struct1=self.gnps.MultiRequirements([(\"0\",\"1\")],interval=self.interval)\n",
        "                self.runtime_array[-1].append(self.gnps.runtime)\n",
        "            self.flag=2\n",
        "            self.repeat_num=0 # 次の段階に行くときにリセット\n",
        "        if self.flag==2:\n",
        "            print(\"段階2：\")\n",
        "            self.node_body2,self.edge_struct2=self.gnps.MultiRequirements([(\"1\",\"0\")],interval=self.interval)\n",
        "            self.runtime_array[-1].append(self.gnps.runtime)\n",
        "            self.flag=3\n",
        "            self.repeat_num=0 # 次の段階に行くときにリセット\n",
        "        if self.flag==3:\n",
        "            print(\"段階3：\")\n",
        "            self.node_body3,self.edge_struct3=self.gnps.MultiRequirements([(\"0\",\"1\"),(\"1\",\"0\")],interval=self.interval)\n",
        "            self.runtime_array[-1].append(-sum(self.runtime_array[-1])+self.timelimit*self.repeat_num+self.gnps.runtime)\n",
        "            self.flag=4\n",
        "            self.repeat_num=0 # 次の段階に行くときにリセット\n",
        "        if self.flag==4:\n",
        "            print(\"段階4：\")\n",
        "            self.node_body4,self.edge_struct4=self.gnps.MultiRequirements([(\"0\",\"1\"),(\"1\",\"0\"),(\"0 0\",\"1 1\")],interval=self.interval)\n",
        "            self.runtime_array[-1].append(self.gnps.runtime)\n",
        "            if phase_num!=5:\n",
        "                self.flag=1\n",
        "            else: self.flag=5\n",
        "            self.repeat_num=0 # 次の段階に行くときにリセット\n",
        "        if self.flag==5:\n",
        "            print(\"段階5：\")\n",
        "            self.node_body5,self.edge_struct5=self.gnps.MultiRequirements([(\"0\",\"1\"),(\"1\",\"0\"),(\"0 0\",\"1 1\"),(\"0 1 0\",\"1 0 1\")],interval=self.interval)\n",
        "            self.runtime_array[-1].append(self.gnps.runtime)\n",
        "            self.flag=1\n",
        "            self.repeat_num=0 # 次の段階に行くときにリセット\n",
        "        #self.result_num+=1\n",
        "        if phase_num==3:\n",
        "            ans_str=\"node2:\",self.node_body2,\" ,edge2:\",self.edge_struct2,\" ,node3:\",self.node_body3,\" ,edge3:\",self.edge_struct3,\" ,node4:\",self.node_body4,\" ,edge4:\",self.edge_struct4\n",
        "        elif phase_num==4:\n",
        "            ans_str=\"node1:\",self.node_body1,\" ,edge1:\",self.edge_struct1,\" ,node2:\",self.node_body2,\" ,edge2:\",self.edge_struct2,\" ,node3:\",self.node_body3,\" ,edge3:\",self.edge_struct3,\" ,node4:\",self.node_body4,\" ,edge4:\",self.edge_struct4\n",
        "        elif phase_num==5:\n",
        "            ans_str=\"node1:\",self.node_body1,\" ,edge1:\",self.edge_struct1,\" ,node2:\",self.node_body2,\" ,edge2:\",self.edge_struct2,\" ,node3:\",self.node_body3,\" ,edge3:\",self.edge_struct3,\" ,node4:\",self.node_body4,\" ,edge4:\",self.edge_struct4,\" ,node5:\",self.node_body5,\" ,edge5:\",self.edge_struct5\n",
        "        self.ans_array.append(ans_str)\n",
        "        print(ans_str)\n",
        "\n",
        "\n",
        "try: dill.load_session(save_name+'.pkl')\n",
        "except: sn=SeekNetSingle()"
      ]
    },
    {
      "cell_type": "code",
      "execution_count": 4,
      "metadata": {
        "colab": {
          "base_uri": "https://localhost:8080/"
        },
        "id": "26NpW4TOTonW",
        "outputId": "a277df55-0b1c-4b9f-abae-663da2506dd0"
      },
      "outputs": [
        {
          "name": "stdout",
          "output_type": "stream",
          "text": [
            "段階3：\n",
            "終了：  20.175899982452393 秒経過\n",
            "\n",
            "\n",
            "作成できたネットワーク:\n",
            " []\n",
            "各ネットワークの各段階でかかった時間:\n",
            " [[0.06294941902160645, 1.685915231704712]]\n"
          ]
        }
      ],
      "source": [
        "#sn.start(timelimit=10,interval=900)\n",
        "sn.start(timelimit=18000,interval=900)\n",
        "#sn.start(timelimit=10800,interval=900)"
      ]
    },
    {
      "cell_type": "code",
      "execution_count": 5,
      "metadata": {
        "id": "ayOrXb8UiNt3",
        "outputId": "ffc4aac8-5c80-454e-de6d-40683da3300e"
      },
      "outputs": [
        {
          "ename": "NameError",
          "evalue": "name 'end' is not defined",
          "output_type": "error",
          "traceback": [
            "\u001b[1;31m---------------------------------------------------------------------------\u001b[0m",
            "\u001b[1;31mNameError\u001b[0m                                 Traceback (most recent call last)",
            "\u001b[1;32mセル9 を c:\\Users\\aikot\\Documents\\program_local\\tag_language\\np4g_additional_test3.ipynb\u001b[0m in \u001b[0;36m<cell line: 1>\u001b[1;34m()\u001b[0m\n\u001b[1;32m----> <a href='vscode-notebook-cell:/c%3A/Users/aikot/Documents/program_local/tag_language/np4g_additional_test3.ipynb#Y104sZmlsZQ%3D%3D?line=0'>1</a>\u001b[0m end\n",
            "\u001b[1;31mNameError\u001b[0m: name 'end' is not defined"
          ]
        }
      ],
      "source": [
        "end"
      ]
    },
    {
      "cell_type": "code",
      "execution_count": null,
      "metadata": {
        "colab": {
          "base_uri": "https://localhost:8080/"
        },
        "id": "ku6JwCcwAPch",
        "outputId": "d55d4e8e-d8be-4fbf-fae3-f0d8de5da2c8"
      },
      "outputs": [
        {
          "name": "stdout",
          "output_type": "stream",
          "text": [
            "実行時間： 108000.75886011124 , 生成されたネットワークの数： 0\n",
            "[]\n",
            "[[2.3389267921447754]]\n",
            "\n"
          ]
        }
      ],
      "source": [
        "import dill\n",
        "phase_num=3\n",
        "node_num=15\n",
        "#save_name='np4g_additional_test2_'+str(phase_num)+'_'+str(node_num)\n",
        "save_name='np4g_additional_test2_'+str(phase_num)+'_'+str(node_num)+'_20221118'\n",
        "dill.load_session(save_name+'.pkl')\n",
        "\n",
        "print(\"実行時間：\",sn.progress_time,\", 生成されたネットワークの数：\",sn.result_num)\n",
        "print(sn.ans_array)\n",
        "print(sn.runtime_array)\n",
        "print(\"\")"
      ]
    },
    {
      "cell_type": "code",
      "execution_count": null,
      "metadata": {
        "colab": {
          "base_uri": "https://localhost:8080/"
        },
        "id": "d-7w04iOUDPp",
        "outputId": "0b7541bf-2c4e-4472-b218-9154fafd8d5d"
      },
      "outputs": [
        {
          "name": "stdout",
          "output_type": "stream",
          "text": [
            "0.590186595916748\t1.2317781448364258\t4518.318267583847\t26.12284755706787\t0.06386709213256836\tTrue\n",
            "0.590186595916748\t1.2317781448364258\t4518.318267583847\t26.12284755706787\t0.06386709213256836\t"
          ]
        }
      ],
      "source": [
        "import dill\n",
        "phase_num=5\n",
        "node_num=15\n",
        "save_name='np4g_additional_test3_'+str(phase_num)+'_'+str(node_num)+'_20221127_10'\n",
        "dill.load_session(save_name+'.pkl')\n",
        "\n",
        "import itertools\n",
        "test_data=[]\n",
        "for repeat in range(1,6):\n",
        "  in_=list(itertools.product(\"01\",repeat=repeat))\n",
        "  out_=list(reversed(in_))\n",
        "  test_data.extend(list(map(lambda i,j:(i,j),map(\" \".join,in_),map(\" \".join,out_))))\n",
        "\n",
        "for i,ans in enumerate(sn.ans_array):\n",
        "    for runtime in sn.runtime_array[i]:\n",
        "        print(runtime,end=\"\\t\")\n",
        "    #print(\"\\t\",ans,end=\"\\t\")\n",
        "    print(NP4Gtest(ans[-3],ans[-1],test_data))\n",
        "for runtime in sn.runtime_array[-1]:\n",
        "    print(runtime,end=\"\\t\")"
      ]
    },
    {
      "cell_type": "code",
      "execution_count": null,
      "metadata": {
        "colab": {
          "base_uri": "https://localhost:8080/"
        },
        "id": "kEvtkcuk5i71",
        "outputId": "354ae1de-bce4-449c-fc71-a22e62163b0d"
      },
      "outputs": [
        {
          "name": "stdout",
          "output_type": "stream",
          "text": [
            "11.04900312423706\t"
          ]
        }
      ],
      "source": [
        "import dill\n",
        "phase_num=3\n",
        "node_num=20\n",
        "save_name='np4g_additional_test2_'+str(phase_num)+'_'+str(node_num)+'_20221118'\n",
        "dill.load_session(save_name+'.pkl')\n",
        "for runtime in sn.runtime_array:\n",
        "    for t in runtime:\n",
        "        print(t,end=\"\\t\")"
      ]
    },
    {
      "cell_type": "code",
      "execution_count": null,
      "metadata": {
        "colab": {
          "base_uri": "https://localhost:8080/"
        },
        "id": "-aNOYpDwjOmf",
        "outputId": "b5d3abe3-8427-4772-f771-b2b1f0cbdaee"
      },
      "outputs": [
        {
          "data": {
            "text/plain": [
              "[[2.610349655151367, 1.1046538352966309]]"
            ]
          },
          "execution_count": 33,
          "metadata": {},
          "output_type": "execute_result"
        }
      ],
      "source": [
        "sn.runtime_array"
      ]
    },
    {
      "cell_type": "code",
      "execution_count": null,
      "metadata": {
        "colab": {
          "base_uri": "https://localhost:8080/"
        },
        "id": "On8We9PMBclL",
        "outputId": "44db0739-74e5-4254-c516-30a1378afd95"
      },
      "outputs": [
        {
          "data": {
            "text/plain": [
              "234001.38512158394"
            ]
          },
          "execution_count": 5,
          "metadata": {},
          "output_type": "execute_result"
        }
      ],
      "source": [
        "sn.progress_time"
      ]
    },
    {
      "cell_type": "code",
      "execution_count": null,
      "metadata": {
        "colab": {
          "base_uri": "https://localhost:8080/"
        },
        "id": "xcy1tB6vBtj5",
        "outputId": "3279327b-93c9-4b0e-e936-c8ef3972d4bc"
      },
      "outputs": [
        {
          "data": {
            "text/plain": [
              "13"
            ]
          },
          "execution_count": 6,
          "metadata": {},
          "output_type": "execute_result"
        }
      ],
      "source": [
        "sn.result_num"
      ]
    },
    {
      "cell_type": "code",
      "execution_count": null,
      "metadata": {
        "colab": {
          "base_uri": "https://localhost:8080/"
        },
        "id": "VwJho943X4_z",
        "outputId": "21729fb6-77d4-44d0-81ab-832655bdcbfa"
      },
      "outputs": [
        {
          "name": "stdout",
          "output_type": "stream",
          "text": [
            "[]\n"
          ]
        }
      ],
      "source": [
        "print(sn.ans_array)"
      ]
    },
    {
      "cell_type": "code",
      "execution_count": null,
      "metadata": {
        "colab": {
          "base_uri": "https://localhost:8080/"
        },
        "id": "p46-Zep0FQWx",
        "outputId": "b43d07fa-8fc0-423f-967b-1bdc989343fb"
      },
      "outputs": [
        {
          "data": {
            "text/plain": [
              "[(0, '1'),\n",
              " (1, <function np4g.equal(gn)>),\n",
              " (2, <function np4g.control_gate(gn)>),\n",
              " (3, <function np4g.split_(gn)>),\n",
              " (4, <function np4g.sum(gn)>),\n",
              " (5, <function np4g.sum(gn)>),\n",
              " (6, '1'),\n",
              " (7, <function np4g.sum(gn)>),\n",
              " (8, '1'),\n",
              " (9, '1')]"
            ]
          },
          "execution_count": 39,
          "metadata": {},
          "output_type": "execute_result"
        }
      ],
      "source": [
        "sn.ans_array[0][1]"
      ]
    },
    {
      "cell_type": "code",
      "execution_count": null,
      "metadata": {
        "colab": {
          "base_uri": "https://localhost:8080/",
          "height": 35
        },
        "id": "lvDJ72bfZy4k",
        "outputId": "982574b3-cd48-45bf-fcbf-854eb3e76abc"
      },
      "outputs": [
        {
          "data": {
            "application/vnd.google.colaboratory.intrinsic+json": {
              "type": "string"
            },
            "text/plain": [
              "' ,edge2:'"
            ]
          },
          "execution_count": 54,
          "metadata": {},
          "output_type": "execute_result"
        }
      ],
      "source": [
        "sn.ans_array[0][6]"
      ]
    },
    {
      "cell_type": "code",
      "execution_count": null,
      "metadata": {
        "colab": {
          "base_uri": "https://localhost:8080/"
        },
        "id": "gJJtM1i4lG9I",
        "outputId": "f4cc7454-330d-4efe-96c4-32c81ab10a7c"
      },
      "outputs": [
        {
          "data": {
            "text/plain": [
              "<np4g.NP4Gstruct at 0x7f8cf4d9cb90>"
            ]
          },
          "execution_count": 11,
          "metadata": {},
          "output_type": "execute_result"
        }
      ],
      "source": [
        "sn.gnps"
      ]
    },
    {
      "cell_type": "code",
      "execution_count": null,
      "metadata": {
        "colab": {
          "base_uri": "https://localhost:8080/"
        },
        "id": "cKTYR6DK68vj",
        "outputId": "eee5fb39-c05e-4b00-8c06-44a075f2fb54"
      },
      "outputs": [
        {
          "data": {
            "text/plain": [
              "1.8669512271881104"
            ]
          },
          "execution_count": 8,
          "metadata": {},
          "output_type": "execute_result"
        }
      ],
      "source": [
        "sn.gnps.runtime"
      ]
    },
    {
      "cell_type": "code",
      "execution_count": null,
      "metadata": {
        "colab": {
          "base_uri": "https://localhost:8080/",
          "height": 70
        },
        "id": "wEnVeTLibXa0",
        "outputId": "acd12058-faad-486a-ee14-cc591de67d5d"
      },
      "outputs": [
        {
          "data": {
            "application/vnd.google.colaboratory.intrinsic+json": {
              "type": "string"
            },
            "text/plain": [
              "\"[(0, '1'), (1, <function control_gate at 0x7fe05f88f170>), (2, <function NP4Gstruct.MultiRequirements.<locals>.<lambda> at 0x7fe05d5263b0>), (3, <function sum at 0x7fe05f88f050>), (4, <function NP4Gstruct.MultiRequirements.<locals>.<lambda> at 0x7fe05d5267a0>), (5, <function control_gate at 0x7fe05f88f170>), (6, <function split_ at 0x7fe05f8f3560>), (7, <function control_gate at 0x7fe05f88f170>), (8, <function NP4Gstruct.MultiRequirements.<locals>.<lambda> at 0x7fe05d5267a0>), (9, <function equal at 0x7fe05f88f0e0>)]\""
            ]
          },
          "execution_count": 62,
          "metadata": {},
          "output_type": "execute_result"
        }
      ],
      "source": [
        "str(sn.ans_array[0][9])"
      ]
    },
    {
      "cell_type": "code",
      "execution_count": null,
      "metadata": {
        "colab": {
          "base_uri": "https://localhost:8080/",
          "height": 35
        },
        "id": "EsysWTyxe3Zl",
        "outputId": "7524b84e-5243-44b1-b6de-4a5b8c9a4e86"
      },
      "outputs": [
        {
          "data": {
            "application/vnd.google.colaboratory.intrinsic+json": {
              "type": "string"
            },
            "text/plain": [
              "'<function NP4Gstruct.MultiRequirements.<locals>.<lambda> at 0x7fe05d5263b0>'"
            ]
          },
          "execution_count": 72,
          "metadata": {},
          "output_type": "execute_result"
        }
      ],
      "source": [
        "str(sn.ans_array[0][9][2][1])"
      ]
    },
    {
      "cell_type": "code",
      "execution_count": null,
      "metadata": {
        "colab": {
          "base_uri": "https://localhost:8080/"
        },
        "id": "miVwWQJva_oM",
        "outputId": "3fb3cbd5-73bc-4888-fd44-54e0aa26ccdb"
      },
      "outputs": [
        {
          "name": "stdout",
          "output_type": "stream",
          "text": [
            "flowchart LR;\n",
            "S([S])\n",
            "0([\"1\"])\n",
            "1( )\n",
            "2([\"NP4Gstruct.MultiRequirements.<locals>.<lambda>\"])\n",
            "3[+]\n",
            "4([\"NP4Gstruct.MultiRequirements.<locals>.<lambda>\"])\n",
            "5( )\n",
            "6([\"split_\"])\n",
            "7( )\n",
            "8([\"NP4Gstruct.MultiRequirements.<locals>.<lambda>\"])\n",
            "9[==]\n",
            "0 --> 1\n",
            "5 --> 1\n",
            "4 --> 2\n",
            "4 --> 3\n",
            "7 --> 3\n",
            "5 --> 3\n",
            "S --> 4\n",
            "2 --> 5\n",
            "S --> 5\n",
            "5 --> 6\n",
            "2 --> 7\n",
            "9 --> 7\n",
            "5 --> 8\n",
            "8 --> 9\n",
            "4 --> 9\n"
          ]
        }
      ],
      "source": [
        "TransNetworkInfo(str(sn.ans_array[0][9]),str(sn.ans_array[0][11])).mermaid()"
      ]
    },
    {
      "cell_type": "code",
      "execution_count": null,
      "metadata": {
        "colab": {
          "base_uri": "https://localhost:8080/"
        },
        "id": "4zsTHf8z9yyS",
        "outputId": "0f684cb4-698c-42d5-b2c6-9655563ef627"
      },
      "outputs": [
        {
          "name": "stdout",
          "output_type": "stream",
          "text": [
            "flowchart LR;\n",
            "S([S])\n",
            "0([\"split_\"])\n",
            "1[==]\n",
            "2( )\n",
            "3[==]\n",
            "4([\"0\"])\n",
            "5([\"0\"])\n",
            "6( )\n",
            "7( )\n",
            "8([\"1\"])\n",
            "9( )\n",
            "10([\"0\"])\n",
            "11([\"split_\"])\n",
            "12([\"0\"])\n",
            "13([\"split_\"])\n",
            "14[==]\n",
            "15([\"split_\"])\n",
            "16([\"split_\"])\n",
            "17([\"split_\"])\n",
            "18([\"0\"])\n",
            "19[==]\n",
            "12 --> 0\n",
            "11 --> 1\n",
            "17 --> 1\n",
            "19 --> 2\n",
            "15 --> 2\n",
            "16 --> 3\n",
            "8 --> 3\n",
            "19 --> 6\n",
            "8 --> 6\n",
            "16 --> 7\n",
            "8 --> 7\n",
            "17 --> 9\n",
            "2 --> 9\n",
            "3 --> 11\n",
            "3 --> 13\n",
            "4 --> 14\n",
            "5 --> 14\n",
            "3 --> 15\n",
            "4 --> 16\n",
            "13 --> 17\n",
            "4 --> 19\n",
            "S --> 19\n"
          ]
        }
      ],
      "source": [
        "TransNetworkInfo(str(sn.node_body1),str(sn.edge_struct1)).mermaid()"
      ]
    },
    {
      "cell_type": "code",
      "execution_count": null,
      "metadata": {
        "colab": {
          "base_uri": "https://localhost:8080/"
        },
        "id": "NtdEZ01_3LeP",
        "outputId": "97623a38-7738-4dd6-8073-3c943668dd7a"
      },
      "outputs": [
        {
          "name": "stdout",
          "output_type": "stream",
          "text": [
            "flowchart LR;\n",
            "S([S])\n",
            "0([\"1\"])\n",
            "1[==]\n",
            "2( )\n",
            "3([\"1\"])\n",
            "4( )\n",
            "5([\"NP4Gstruct.MultiRequirements.<locals>.<lambda>\"])\n",
            "6([\"1\"])\n",
            "7([\"0\"])\n",
            "8([\"0\"])\n",
            "9([\"split_\"])\n",
            "10[+]\n",
            "11( )\n",
            "12([\"0\"])\n",
            "13([\"1\"])\n",
            "14[==]\n",
            "15([\"0\"])\n",
            "16([\"NP4Gstruct.MultiRequirements.<locals>.<lambda>\"])\n",
            "17([\"0\"])\n",
            "18([\"NP4Gstruct.MultiRequirements.<locals>.<lambda>\"])\n",
            "19( )\n",
            "9 --> 1\n",
            "12 --> 1\n",
            "16 --> 2\n",
            "11 --> 2\n",
            "15 --> 4\n",
            "1 --> 4\n",
            "0 --> 5\n",
            "19 --> 9\n",
            "15 --> 10\n",
            "16 --> 10\n",
            "S --> 11\n",
            "7 --> 11\n",
            "18 --> 14\n",
            "11 --> 14\n",
            "11 --> 16\n",
            "4 --> 18\n",
            "17 --> 19\n",
            "5 --> 19\n"
          ]
        }
      ],
      "source": [
        "TransNetworkInfo(str(sn.node_body2),str(sn.edge_struct2)).mermaid()"
      ]
    },
    {
      "cell_type": "code",
      "execution_count": null,
      "metadata": {
        "colab": {
          "base_uri": "https://localhost:8080/"
        },
        "id": "f1400_14GWRb",
        "outputId": "23a4581c-403a-4ce7-fdd8-f62db8c7f51f"
      },
      "outputs": [
        {
          "name": "stdout",
          "output_type": "stream",
          "text": [
            "0 : <function split_ at 0x7fe05f8f3560>\n",
            "1 : <function sum at 0x7fe05f88f050>\n",
            "2 : <function equal at 0x7fe05f88f0e0>\n",
            "3 : <function control_gate at 0x7fe05f88f170>\n",
            "4 : 0\n",
            "5 : 1\n",
            "6 : <function NP4Gstruct.MultiRequirements.<locals>.<lambda> at 0x7fe05d4d6170>\n",
            "7 : <function NP4Gstruct.MultiRequirements.<locals>.<lambda> at 0x7fe05d4d6290>\n"
          ]
        }
      ],
      "source": [
        "for i,adf in enumerate(sn.gnps.adfs_list):print(i,':',adf)"
      ]
    },
    {
      "cell_type": "code",
      "execution_count": null,
      "metadata": {
        "colab": {
          "base_uri": "https://localhost:8080/",
          "height": 53
        },
        "id": "0th0p40N-QIZ",
        "outputId": "f507357c-825c-47c2-f9d4-5b422501e607"
      },
      "outputs": [
        {
          "data": {
            "application/vnd.google.colaboratory.intrinsic+json": {
              "type": "string"
            },
            "text/plain": [
              "\"[(0, <function control_gate at 0x7f9eb6da10e0>), (1, <function equal at 0x7f9eb6da1050>), (2, '0'), (3, <function split_ at 0x7f9eb6e00f80>), (4, <function control_gate at 0x7f9eb6da10e0>), (5, <function split_ at 0x7f9eb6e00f80>), (6, '0'), (7, <function NP4Gstruct.MultiRequirements.<locals>.<lambda> at 0x7f9eb6d9ccb0>), (8, <function NP4Gstruct.MultiRequirements.<locals>.<lambda> at 0x7f9eb6d9ccb0>), (9, <function sum at 0x7f9eb6d9cf80>)]\""
            ]
          },
          "execution_count": 5,
          "metadata": {},
          "output_type": "execute_result"
        }
      ],
      "source": [
        "str(sn.node_body2)"
      ]
    },
    {
      "cell_type": "code",
      "execution_count": null,
      "metadata": {
        "colab": {
          "base_uri": "https://localhost:8080/",
          "height": 35
        },
        "id": "Mjx1Am-l1fKx",
        "outputId": "1d76e322-3360-4e96-cc21-b628f3190a19"
      },
      "outputs": [
        {
          "data": {
            "application/vnd.google.colaboratory.intrinsic+json": {
              "type": "string"
            },
            "text/plain": [
              "'<function NP4Gstruct.MultiRequirements.<locals>.<lambda> at 0x7f9eb6d9ccb0>'"
            ]
          },
          "execution_count": 6,
          "metadata": {},
          "output_type": "execute_result"
        }
      ],
      "source": [
        "str(sn.node_body2[7][1])"
      ]
    },
    {
      "cell_type": "code",
      "execution_count": null,
      "metadata": {
        "id": "J39ZdXTgaFQz"
      },
      "outputs": [],
      "source": [
        "printx.on()"
      ]
    },
    {
      "cell_type": "code",
      "execution_count": null,
      "metadata": {
        "colab": {
          "base_uri": "https://localhost:8080/"
        },
        "id": "R08Dl7oRwOU3",
        "outputId": "9ccd21a2-3ed2-43c0-fd75-046e99730efb"
      },
      "outputs": [
        {
          "name": "stdout",
          "output_type": "stream",
          "text": [
            "node: in = 1\n",
            "next_node_list: [19]\n",
            "[FALSE]\n",
            "node: 19 , result: [FALSE]\n",
            "next_node_list: [2, 6]\n",
            "node: 2 , result: Not yet: skip\n",
            "[NULL]\n",
            "This is endpoint node\n",
            "node: 6 , result: [NULL]\n",
            "next_node_list: []\n"
          ]
        }
      ],
      "source": [
        "printx.on()\n",
        "np=NetworkProgram(\"1\",sn.node_body1,sn.edge_struct1)\n",
        "np.run()\n",
        "printx.off()"
      ]
    },
    {
      "cell_type": "code",
      "execution_count": null,
      "metadata": {
        "colab": {
          "base_uri": "https://localhost:8080/"
        },
        "id": "JS4oeOTWfIKR",
        "outputId": "6afe5d82-2504-444c-f3d5-a190b001df9a"
      },
      "outputs": [
        {
          "name": "stdout",
          "output_type": "stream",
          "text": [
            "node: in = 0\n",
            "next_node_list: [11]\n",
            "[NULL]\n",
            "node: 11 , result: [NULL]\n",
            "next_node_list: [2, 14, 16]\n",
            "node: 2 , result: Not yet: skip\n",
            "node: 14 , result: Not yet: skip\n",
            "adfs node_body:  [(0, <function split_ at 0x7fe05f8f3560>), (1, <function equal at 0x7fe05f88f0e0>), (2, <function control_gate at 0x7fe05f88f170>), (3, <function equal at 0x7fe05f88f0e0>), (4, '0'), (5, '0'), (6, <function control_gate at 0x7fe05f88f170>), (7, <function control_gate at 0x7fe05f88f170>), (8, '1'), (9, <function control_gate at 0x7fe05f88f170>), (10, '0'), (11, <function split_ at 0x7fe05f8f3560>), (12, '0'), (13, <function split_ at 0x7fe05f8f3560>), (14, <function equal at 0x7fe05f88f0e0>), (15, <function split_ at 0x7fe05f8f3560>), (16, <function split_ at 0x7fe05f8f3560>), (17, <function split_ at 0x7fe05f8f3560>), (18, '0'), (19, <function equal at 0x7fe05f88f0e0>)]\n",
            "adfs edge_struct:  [(12, 0), (11, 1), (17, 1), (19, 2), (15, 2), (16, 3), (8, 3), (19, 6), (8, 6), (16, 7), (8, 7), (17, 9), (2, 9), (3, 11), (3, 13), (4, 14), (5, 14), (3, 15), (4, 16), (13, 17), (4, 19), ('S', 19)]\n",
            "adfs input: [NULL]\n",
            "node: in = [NULL]\n",
            "next_node_list: [19]\n",
            "[FALSE]\n",
            "node: 19 , result: [FALSE]\n",
            "next_node_list: [2, 6]\n",
            "node: 2 , result: Not yet: skip\n",
            "[NULL]\n",
            "This is endpoint node\n",
            "node: 6 , result: [NULL]\n",
            "next_node_list: []\n",
            "[NULL]\n",
            "adfs out: [NULL]\n",
            "node: 16 , result: [NULL]\n",
            "next_node_list: [2, 10]\n",
            "[NULL]\n",
            "This is endpoint node\n",
            "node: 2 , result: [NULL]\n",
            "0\n",
            "This is endpoint node\n",
            "node: 10 , result: 0\n",
            "next_node_list: []\n"
          ]
        }
      ],
      "source": [
        "printx.on()\n",
        "np=NetworkProgram(\"0\",sn.node_body2,sn.edge_struct2)\n",
        "np.run()\n",
        "printx.off()"
      ]
    },
    {
      "cell_type": "code",
      "execution_count": null,
      "metadata": {
        "colab": {
          "base_uri": "https://localhost:8080/"
        },
        "id": "dXMLnDfZjt_x",
        "outputId": "0c19274d-b02c-4a04-e826-83e9401f1db9"
      },
      "outputs": [
        {
          "name": "stdout",
          "output_type": "stream",
          "text": [
            "node: in = 1\n",
            "next_node_list: [0]\n",
            "adfs node_body:  [(0, <function control_gate at 0x7f9eb6da10e0>), (1, <function equal at 0x7f9eb6da1050>), (2, '0'), (3, <function split_ at 0x7f9eb6e00f80>), (4, <function control_gate at 0x7f9eb6da10e0>), (5, <function split_ at 0x7f9eb6e00f80>), (6, '0'), (7, <function NP4Gstruct.MultiRequirements.<locals>.<lambda> at 0x7f9eb6d9ccb0>), (8, <function NP4Gstruct.MultiRequirements.<locals>.<lambda> at 0x7f9eb6d9ccb0>), (9, <function sum at 0x7f9eb6d9cf80>)]\n",
            "adfs edge_struct:  [(4, 0), (6, 0), (2, 1), (7, 1), (7, 3), (6, 4), ('S', 4), (7, 5), ('S', 7), (6, 8), (2, 9), (0, 9)]\n",
            "adfs input: 1\n",
            "node: in = 1\n",
            "next_node_list: [4, 7]\n",
            "[NULL]\n",
            "node: 4 , result: [NULL]\n",
            "adfs node_body:  [(0, <function control_gate at 0x7f9eb6da10e0>), (1, <function control_gate at 0x7f9eb6da10e0>), (2, <function sum at 0x7f9eb6d9cf80>), (3, '1'), (4, <function sum at 0x7f9eb6d9cf80>), (5, <function split_ at 0x7f9eb6e00f80>), (6, '0'), (7, <function split_ at 0x7f9eb6e00f80>), (8, <function control_gate at 0x7f9eb6da10e0>), (9, <function sum at 0x7f9eb6d9cf80>)]\n",
            "adfs edge_struct:  [(3, 0), ('S', 0), (0, 1), ('S', 1), (0, 2), (6, 2), (5, 2), ('S', 2), (5, 4), (6, 4), ('S', 4), (3, 4), (2, 4), (1, 5), (6, 7), (4, 8), (2, 8), (0, 9), (3, 9), (8, 9)]\n",
            "adfs input: 1\n",
            "node: in = 1\n",
            "next_node_list: [0, 1, 2, 4]\n",
            "[NULL]\n",
            "node: 0 , result: [NULL]\n",
            "[NULL]\n",
            "node: 1 , result: [NULL]\n",
            "node: 2 , result: Not yet: skip\n",
            "node: 4 , result: Not yet: skip\n",
            "next_node_list: [1, 2, 9, 5]\n",
            "node: 1 , result: Already calculated: skip\n",
            "node: 2 , result: Not yet: skip\n",
            "node: 9 , result: Not yet: skip\n",
            "node: 5 , result: ['[NULL]']\n",
            "next_node_list: [2, 4]\n",
            "0 1\n",
            "node: 2 , result: 0 1\n",
            "0 1 1 0 1\n",
            "node: 4 , result: 0 1 1 0 1\n",
            "next_node_list: [4, 8, 8]\n",
            "node: 4 , result: Already calculated: skip\n",
            "[NULL]\n",
            "node: 8 , result: [NULL]\n",
            "node: 8 , result: Already calculated: skip\n",
            "next_node_list: [9]\n",
            "1\n",
            "This is endpoint node\n",
            "node: 9 , result: 1\n",
            "next_node_list: []\n",
            "1\n",
            "adfs out: 1\n",
            "node: 7 , result: 1\n",
            "next_node_list: [0, 1, 3, 5]\n",
            "[NULL]\n",
            "node: 0 , result: [NULL]\n",
            "[FALSE]\n",
            "This is endpoint node\n",
            "node: 1 , result: [FALSE]\n",
            "This is endpoint node\n",
            "node: 3 , result: ['1']\n",
            "This is endpoint node\n",
            "node: 5 , result: ['1']\n",
            "next_node_list: [9]\n",
            "0\n",
            "This is endpoint node\n",
            "node: 9 , result: 0\n",
            "next_node_list: []\n",
            "0\n",
            "adfs out: 0\n",
            "This is endpoint node\n",
            "node: 0 , result: 0\n",
            "next_node_list: []\n"
          ]
        }
      ],
      "source": [
        "printx.on()\n",
        "np2=NetworkProgram('1',[(0,sn.gnps.adfs_list[7])],[('S',0)])\n",
        "np2.run()\n",
        "printx.off()"
      ]
    },
    {
      "cell_type": "code",
      "execution_count": null,
      "metadata": {
        "colab": {
          "base_uri": "https://localhost:8080/",
          "height": 524
        },
        "id": "XBwiAO-ffI6e",
        "outputId": "e1a1f56b-9fd7-4d1d-b189-3470632edb74"
      },
      "outputs": [
        {
          "name": "stdout",
          "output_type": "stream",
          "text": [
            "node: in = [NULL]\n",
            "next_node_list: [0]\n",
            "adfs node_body:  [(0, '1'), (1, <function equal at 0x7fe05f88f0e0>), (2, <function control_gate at 0x7fe05f88f170>), (3, <function split_ at 0x7fe05f8f3560>), (4, <function sum at 0x7fe05f88f050>), (5, <function sum at 0x7fe05f88f050>), (6, '1'), (7, <function sum at 0x7fe05f88f050>), (8, '1'), (9, '1')]\n",
            "adfs edge_struct:  [(4, 1), (3, 1), ('S', 2), (6, 2), (2, 3), (9, 4), (5, 4), (3, 4), (1, 4), (2, 4), (8, 4), (8, 5), (9, 5), ('S', 5), (6, 5), (0, 5), (3, 7), (6, 7)]\n",
            "adfs input: [NULL]\n",
            "node: in = [NULL]\n",
            "next_node_list: [2, 5]\n",
            "[NULL]\n",
            "node: 2 , result: [NULL]\n",
            "1 1 1 1\n",
            "node: 5 , result: 1 1 1 1\n",
            "next_node_list: [3, 4, 4]\n",
            "node: 3 , result: ['[NULL]']\n",
            "node: 4 , result: Not yet: skip\n",
            "node: 4 , result: Not yet: skip\n",
            "next_node_list: [1, 4, 7]\n",
            "node: 1 , result: Not yet: skip\n",
            "node: 4 , result: Not yet: skip\n",
            "1\n",
            "This is endpoint node\n",
            "node: 7 , result: 1\n",
            "next_node_list: []\n",
            "1\n",
            "adfs out: 1\n",
            "This is endpoint node\n",
            "node: 0 , result: 1\n",
            "next_node_list: []\n"
          ]
        },
        {
          "data": {
            "application/vnd.google.colaboratory.intrinsic+json": {
              "type": "string"
            },
            "text/plain": [
              "'1'"
            ]
          },
          "execution_count": 80,
          "metadata": {},
          "output_type": "execute_result"
        }
      ],
      "source": [
        "np3=NetworkProgram('[NULL]',[(0,sn.ans_array[0][9][2][1])],[('S',0)])\n",
        "np3.run()"
      ]
    },
    {
      "cell_type": "code",
      "execution_count": null,
      "metadata": {
        "colab": {
          "base_uri": "https://localhost:8080/",
          "height": 420
        },
        "id": "zKNtvuH8f0IW",
        "outputId": "951364c4-df30-45d4-8255-2ffa071606f8"
      },
      "outputs": [
        {
          "name": "stdout",
          "output_type": "stream",
          "text": [
            "node: in = [NULL]\n",
            "next_node_list: [0]\n",
            "adfs node_body:  [(0, <function NP4Gstruct.MultiRequirements.<locals>.<lambda> at 0x7fe05d5263b0>), (1, '1'), (2, '0'), (3, <function control_gate at 0x7fe05f88f170>), (4, '0'), (5, <function split_ at 0x7fe05f8f3560>), (6, '1'), (7, <function equal at 0x7fe05f88f0e0>), (8, <function split_ at 0x7fe05f8f3560>), (9, '0')]\n",
            "adfs edge_struct:  [(2, 0), (7, 3), (2, 3), ('S', 5), (6, 7), ('S', 7), (9, 8)]\n",
            "adfs input: [NULL]\n",
            "node: in = [NULL]\n",
            "next_node_list: [5, 7]\n",
            "This is endpoint node\n",
            "node: 5 , result: ['[NULL]']\n",
            "[FALSE]\n",
            "node: 7 , result: [FALSE]\n",
            "next_node_list: [3]\n",
            "[NULL]\n",
            "This is endpoint node\n",
            "node: 3 , result: [NULL]\n",
            "next_node_list: []\n",
            "[NULL]\n",
            "adfs out: [NULL]\n",
            "This is endpoint node\n",
            "node: 0 , result: [NULL]\n",
            "next_node_list: []\n"
          ]
        },
        {
          "data": {
            "application/vnd.google.colaboratory.intrinsic+json": {
              "type": "string"
            },
            "text/plain": [
              "'[NULL]'"
            ]
          },
          "execution_count": 79,
          "metadata": {},
          "output_type": "execute_result"
        }
      ],
      "source": [
        "np4=NetworkProgram('[NULL]',[(0,sn.ans_array[0][9][4][1])],[('S',0)])\n",
        "np4.run()"
      ]
    },
    {
      "cell_type": "code",
      "execution_count": null,
      "metadata": {
        "colab": {
          "base_uri": "https://localhost:8080/",
          "height": 330
        },
        "id": "jpkh_5O-aIar",
        "outputId": "7614cbf2-0d88-45d0-e92b-7ff919eacc99"
      },
      "outputs": [
        {
          "name": "stdout",
          "output_type": "stream",
          "text": [
            "node: in = 1\n",
            "next_node_list: [2, 5]\n",
            "[NULL]\n",
            "node: 2 , result: [NULL]\n",
            "1 1 1 1 1\n",
            "node: 5 , result: 1 1 1 1 1\n",
            "next_node_list: [3, 4, 4]\n",
            "node: 3 , result: ['[NULL]']\n",
            "node: 4 , result: Not yet: skip\n",
            "node: 4 , result: Not yet: skip\n",
            "next_node_list: [1, 4, 7]\n",
            "node: 1 , result: Not yet: skip\n",
            "node: 4 , result: Not yet: skip\n",
            "1\n",
            "This is endpoint node\n",
            "node: 7 , result: 1\n",
            "next_node_list: []\n"
          ]
        },
        {
          "data": {
            "application/vnd.google.colaboratory.intrinsic+json": {
              "type": "string"
            },
            "text/plain": [
              "'1'"
            ]
          },
          "execution_count": 49,
          "metadata": {},
          "output_type": "execute_result"
        }
      ],
      "source": [
        "np=NetworkProgram(\"1\",sn.ans_array[0][1],sn.ans_array[0][3])\n",
        "np.run()"
      ]
    },
    {
      "cell_type": "code",
      "execution_count": null,
      "metadata": {
        "colab": {
          "base_uri": "https://localhost:8080/",
          "height": 226
        },
        "id": "zg-yFF9qabD7",
        "outputId": "d174215c-ac2e-44a5-9e39-96649386c5ca"
      },
      "outputs": [
        {
          "name": "stdout",
          "output_type": "stream",
          "text": [
            "node: in = [NULL]\n",
            "next_node_list: [5, 7]\n",
            "This is endpoint node\n",
            "node: 5 , result: ['[NULL]']\n",
            "[FALSE]\n",
            "node: 7 , result: [FALSE]\n",
            "next_node_list: [3]\n",
            "[NULL]\n",
            "This is endpoint node\n",
            "node: 3 , result: [NULL]\n",
            "next_node_list: []\n"
          ]
        },
        {
          "data": {
            "application/vnd.google.colaboratory.intrinsic+json": {
              "type": "string"
            },
            "text/plain": [
              "'[NULL]'"
            ]
          },
          "execution_count": 84,
          "metadata": {},
          "output_type": "execute_result"
        }
      ],
      "source": [
        "np=NetworkProgram(\"[NULL]\",sn.ans_array[0][5],sn.ans_array[0][7])\n",
        "np.run()"
      ]
    },
    {
      "cell_type": "code",
      "execution_count": null,
      "metadata": {
        "colab": {
          "base_uri": "https://localhost:8080/",
          "height": 1000
        },
        "id": "ywAs0IKcjdxv",
        "outputId": "409bd680-9a52-4b4c-a892-3089eac59bc5"
      },
      "outputs": [
        {
          "name": "stdout",
          "output_type": "stream",
          "text": [
            "node: in = 1\n",
            "next_node_list: [4, 5]\n",
            "adfs node_body:  [(0, <function NP4Gstruct.MultiRequirements.<locals>.<lambda> at 0x7fe05d5263b0>), (1, '1'), (2, '0'), (3, <function control_gate at 0x7fe05f88f170>), (4, '0'), (5, <function split_ at 0x7fe05f8f3560>), (6, '1'), (7, <function equal at 0x7fe05f88f0e0>), (8, <function split_ at 0x7fe05f8f3560>), (9, '0')]\n",
            "adfs edge_struct:  [(2, 0), (7, 3), (2, 3), ('S', 5), (6, 7), ('S', 7), (9, 8)]\n",
            "adfs input: 1\n",
            "node: in = 1\n",
            "next_node_list: [5, 7]\n",
            "This is endpoint node\n",
            "node: 5 , result: ['1']\n",
            "[TRUE]\n",
            "node: 7 , result: [TRUE]\n",
            "next_node_list: [3]\n",
            "0\n",
            "This is endpoint node\n",
            "node: 3 , result: 0\n",
            "next_node_list: []\n",
            "0\n",
            "adfs out: 0\n",
            "node: 4 , result: 0\n",
            "node: 5 , result: Not yet: skip\n",
            "next_node_list: [2, 3, 9]\n",
            "adfs node_body:  [(0, '1'), (1, <function equal at 0x7fe05f88f0e0>), (2, <function control_gate at 0x7fe05f88f170>), (3, <function split_ at 0x7fe05f8f3560>), (4, <function sum at 0x7fe05f88f050>), (5, <function sum at 0x7fe05f88f050>), (6, '1'), (7, <function sum at 0x7fe05f88f050>), (8, '1'), (9, '1')]\n",
            "adfs edge_struct:  [(4, 1), (3, 1), ('S', 2), (6, 2), (2, 3), (9, 4), (5, 4), (3, 4), (1, 4), (2, 4), (8, 4), (8, 5), (9, 5), ('S', 5), (6, 5), (0, 5), (3, 7), (6, 7)]\n",
            "adfs input: 0\n",
            "node: in = 0\n",
            "next_node_list: [2, 5]\n",
            "[NULL]\n",
            "node: 2 , result: [NULL]\n",
            "1 1 0 1 1\n",
            "node: 5 , result: 1 1 0 1 1\n",
            "next_node_list: [3, 4, 4]\n",
            "node: 3 , result: ['[NULL]']\n",
            "node: 4 , result: Not yet: skip\n",
            "node: 4 , result: Not yet: skip\n",
            "next_node_list: [1, 4, 7]\n",
            "node: 1 , result: Not yet: skip\n",
            "node: 4 , result: Not yet: skip\n",
            "1\n",
            "This is endpoint node\n",
            "node: 7 , result: 1\n",
            "next_node_list: []\n",
            "1\n",
            "adfs out: 1\n",
            "node: 2 , result: 1\n",
            "node: 3 , result: Not yet: skip\n",
            "node: 9 , result: Not yet: skip\n",
            "next_node_list: [5, 7]\n",
            "[NULL]\n",
            "node: 5 , result: [NULL]\n",
            "node: 7 , result: Not yet: skip\n",
            "next_node_list: [1, 3, 6, 8]\n",
            "[NULL]\n",
            "This is endpoint node\n",
            "node: 1 , result: [NULL]\n",
            "node: 3 , result: Not yet: skip\n",
            "This is endpoint node\n",
            "node: 6 , result: ['[NULL]']\n",
            "adfs node_body:  [(0, <function NP4Gstruct.MultiRequirements.<locals>.<lambda> at 0x7fe05d5263b0>), (1, '1'), (2, '0'), (3, <function control_gate at 0x7fe05f88f170>), (4, '0'), (5, <function split_ at 0x7fe05f8f3560>), (6, '1'), (7, <function equal at 0x7fe05f88f0e0>), (8, <function split_ at 0x7fe05f8f3560>), (9, '0')]\n",
            "adfs edge_struct:  [(2, 0), (7, 3), (2, 3), ('S', 5), (6, 7), ('S', 7), (9, 8)]\n",
            "adfs input: [NULL]\n",
            "node: in = [NULL]\n",
            "next_node_list: [5, 7]\n",
            "This is endpoint node\n",
            "node: 5 , result: ['[NULL]']\n",
            "[FALSE]\n",
            "node: 7 , result: [FALSE]\n",
            "next_node_list: [3]\n",
            "[NULL]\n",
            "This is endpoint node\n",
            "node: 3 , result: [NULL]\n",
            "next_node_list: []\n",
            "[NULL]\n",
            "adfs out: [NULL]\n",
            "node: 8 , result: [NULL]\n",
            "next_node_list: [9]\n",
            "[FALSE]\n",
            "node: 9 , result: [FALSE]\n",
            "next_node_list: [7]\n",
            "[NULL]\n",
            "node: 7 , result: [NULL]\n",
            "next_node_list: [3]\n",
            "0\n",
            "This is endpoint node\n",
            "node: 3 , result: 0\n",
            "next_node_list: []\n"
          ]
        },
        {
          "data": {
            "application/vnd.google.colaboratory.intrinsic+json": {
              "type": "string"
            },
            "text/plain": [
              "'0'"
            ]
          },
          "execution_count": 83,
          "metadata": {},
          "output_type": "execute_result"
        }
      ],
      "source": [
        "np=NetworkProgram(\"1\",sn.ans_array[0][9],sn.ans_array[0][11])\n",
        "np.run()"
      ]
    },
    {
      "cell_type": "code",
      "execution_count": null,
      "metadata": {
        "id": "EEgHjKYulFTv"
      },
      "outputs": [],
      "source": [
        "import itertools\n",
        "test_data=[]\n",
        "for repeat in range(1,6):\n",
        "  in_=list(itertools.product(\"01\",repeat=repeat))\n",
        "  out_=list(reversed(in_))\n",
        "  test_data.extend(list(map(lambda i,j:(i,j),map(\" \".join,in_),map(\" \".join,out_))))"
      ]
    },
    {
      "cell_type": "code",
      "execution_count": null,
      "metadata": {
        "id": "kfB6-raclMWf"
      },
      "outputs": [],
      "source": [
        "printx.off()"
      ]
    },
    {
      "cell_type": "code",
      "execution_count": null,
      "metadata": {
        "colab": {
          "base_uri": "https://localhost:8080/"
        },
        "id": "pWzp4XrelXIY",
        "outputId": "9393d05a-1114-4cb3-8838-2ab7aff42862"
      },
      "outputs": [
        {
          "data": {
            "text/plain": [
              "[(2, 0), (6, 3), (8, 3), (9, 4), (2, 5), (8, 6), ('S', 7), (1, 8), (7, 9)]"
            ]
          },
          "execution_count": 91,
          "metadata": {},
          "output_type": "execute_result"
        }
      ],
      "source": [
        "sn.ans_array[0][-1]"
      ]
    },
    {
      "cell_type": "code",
      "execution_count": null,
      "metadata": {
        "colab": {
          "base_uri": "https://localhost:8080/"
        },
        "id": "TAaLYiR6pYhw",
        "outputId": "7312d886-efa9-44c1-c1b1-e36dcd9764ed"
      },
      "outputs": [
        {
          "name": "stdout",
          "output_type": "stream",
          "text": [
            "input: 0 , answer: 1 , correct: True\n",
            "input: 1 , answer: 0 , correct: True\n",
            "input: 0 0 , answer: 1 1 , correct: True\n",
            "input: 0 1 , answer: 1 0 , correct: True\n",
            "input: 1 0 , answer: 0 1 , correct: True\n",
            "input: 1 1 , answer: 0 0 , correct: True\n",
            "input: 0 0 0 , answer: 1 1 1 , correct: True\n",
            "input: 0 0 1 , answer: 1 1 0 , correct: True\n",
            "input: 0 1 0 , answer: 1 0 1 , correct: True\n",
            "input: 0 1 1 , answer: 1 0 0 , correct: True\n",
            "input: 1 0 0 , answer: 0 1 1 , correct: True\n",
            "input: 1 0 1 , answer: 0 1 0 , correct: True\n",
            "input: 1 1 0 , answer: 0 0 1 , correct: True\n",
            "input: 1 1 1 , answer: 0 0 0 , correct: True\n",
            "input: 0 0 0 0 , answer: 1 1 1 1 , correct: True\n",
            "input: 0 0 0 1 , answer: 1 1 1 0 , correct: True\n",
            "input: 0 0 1 0 , answer: 1 1 0 1 , correct: True\n",
            "input: 0 0 1 1 , answer: 1 1 0 0 , correct: True\n",
            "input: 0 1 0 0 , answer: 1 0 1 1 , correct: True\n",
            "input: 0 1 0 1 , answer: 1 0 1 0 , correct: True\n",
            "input: 0 1 1 0 , answer: 1 0 0 1 , correct: True\n",
            "input: 0 1 1 1 , answer: 1 0 0 0 , correct: True\n",
            "input: 1 0 0 0 , answer: 0 1 1 1 , correct: True\n",
            "input: 1 0 0 1 , answer: 0 1 1 0 , correct: True\n",
            "input: 1 0 1 0 , answer: 0 1 0 1 , correct: True\n",
            "input: 1 0 1 1 , answer: 0 1 0 0 , correct: True\n",
            "input: 1 1 0 0 , answer: 0 0 1 1 , correct: True\n",
            "input: 1 1 0 1 , answer: 0 0 1 0 , correct: True\n",
            "input: 1 1 1 0 , answer: 0 0 0 1 , correct: True\n",
            "input: 1 1 1 1 , answer: 0 0 0 0 , correct: True\n",
            "input: 0 0 0 0 0 , answer: 1 1 1 1 1 , correct: True\n",
            "input: 0 0 0 0 1 , answer: 1 1 1 1 0 , correct: True\n",
            "input: 0 0 0 1 0 , answer: 1 1 1 0 1 , correct: True\n",
            "input: 0 0 0 1 1 , answer: 1 1 1 0 0 , correct: True\n",
            "input: 0 0 1 0 0 , answer: 1 1 0 1 1 , correct: True\n",
            "input: 0 0 1 0 1 , answer: 1 1 0 1 0 , correct: True\n",
            "input: 0 0 1 1 0 , answer: 1 1 0 0 1 , correct: True\n",
            "input: 0 0 1 1 1 , answer: 1 1 0 0 0 , correct: True\n",
            "input: 0 1 0 0 0 , answer: 1 0 1 1 1 , correct: True\n",
            "input: 0 1 0 0 1 , answer: 1 0 1 1 0 , correct: True\n",
            "input: 0 1 0 1 0 , answer: 1 0 1 0 1 , correct: True\n",
            "input: 0 1 0 1 1 , answer: 1 0 1 0 0 , correct: True\n",
            "input: 0 1 1 0 0 , answer: 1 0 0 1 1 , correct: True\n",
            "input: 0 1 1 0 1 , answer: 1 0 0 1 0 , correct: True\n",
            "input: 0 1 1 1 0 , answer: 1 0 0 0 1 , correct: True\n",
            "input: 0 1 1 1 1 , answer: 1 0 0 0 0 , correct: True\n",
            "input: 1 0 0 0 0 , answer: 0 1 1 1 1 , correct: True\n",
            "input: 1 0 0 0 1 , answer: 0 1 1 1 0 , correct: True\n",
            "input: 1 0 0 1 0 , answer: 0 1 1 0 1 , correct: True\n",
            "input: 1 0 0 1 1 , answer: 0 1 1 0 0 , correct: True\n",
            "input: 1 0 1 0 0 , answer: 0 1 0 1 1 , correct: True\n",
            "input: 1 0 1 0 1 , answer: 0 1 0 1 0 , correct: True\n",
            "input: 1 0 1 1 0 , answer: 0 1 0 0 1 , correct: True\n",
            "input: 1 0 1 1 1 , answer: 0 1 0 0 0 , correct: True\n",
            "input: 1 1 0 0 0 , answer: 0 0 1 1 1 , correct: True\n",
            "input: 1 1 0 0 1 , answer: 0 0 1 1 0 , correct: True\n",
            "input: 1 1 0 1 0 , answer: 0 0 1 0 1 , correct: True\n",
            "input: 1 1 0 1 1 , answer: 0 0 1 0 0 , correct: True\n",
            "input: 1 1 1 0 0 , answer: 0 0 0 1 1 , correct: True\n",
            "input: 1 1 1 0 1 , answer: 0 0 0 1 0 , correct: True\n",
            "input: 1 1 1 1 0 , answer: 0 0 0 0 1 , correct: True\n",
            "input: 1 1 1 1 1 , answer: 0 0 0 0 0 , correct: True\n"
          ]
        },
        {
          "data": {
            "text/plain": [
              "True"
            ]
          },
          "execution_count": 10,
          "metadata": {},
          "output_type": "execute_result"
        }
      ],
      "source": [
        "NP4Gtest(sn.ans_array[0][-3],sn.ans_array[0][-1],test_data,level=1)"
      ]
    },
    {
      "cell_type": "code",
      "execution_count": null,
      "metadata": {
        "id": "k-PRQkhYk0Tw"
      },
      "outputs": [],
      "source": [
        "result=NP4Gtest(sn.ans_array[0][-3],sn.ans_array[0][-1],test_data)"
      ]
    },
    {
      "cell_type": "code",
      "execution_count": null,
      "metadata": {
        "colab": {
          "base_uri": "https://localhost:8080/"
        },
        "id": "l6fto9Illi5_",
        "outputId": "80018543-b25d-4d0e-8e44-d6c213091a7f"
      },
      "outputs": [
        {
          "data": {
            "text/plain": [
              "True"
            ]
          },
          "execution_count": 8,
          "metadata": {},
          "output_type": "execute_result"
        }
      ],
      "source": [
        "result"
      ]
    },
    {
      "cell_type": "code",
      "execution_count": null,
      "metadata": {
        "colab": {
          "base_uri": "https://localhost:8080/",
          "height": 35
        },
        "id": "qMAY75sDzYo5",
        "outputId": "99efad7c-e853-41b7-9a22-0b398ca1fce2"
      },
      "outputs": [
        {
          "data": {
            "application/vnd.google.colaboratory.intrinsic+json": {
              "type": "string"
            },
            "text/plain": [
              "'<function NP4Gstruct.MultiRequirements.<locals>.<lambda> at 0x7ff8df88f9e0>'"
            ]
          },
          "execution_count": 37,
          "metadata": {},
          "output_type": "execute_result"
        }
      ],
      "source": [
        "str(sn.node_body2[7][1])"
      ]
    },
    {
      "cell_type": "code",
      "execution_count": null,
      "metadata": {
        "colab": {
          "base_uri": "https://localhost:8080/",
          "height": 175
        },
        "id": "pJify9Zx3SRG",
        "outputId": "7b7600a8-5fee-4d20-baf1-9cff741023ac"
      },
      "outputs": [
        {
          "ename": "AttributeError",
          "evalue": "ignored",
          "output_type": "error",
          "traceback": [
            "\u001b[0;31m---------------------------------------------------------------------------\u001b[0m",
            "\u001b[0;31mAttributeError\u001b[0m                            Traceback (most recent call last)",
            "\u001b[0;32m<ipython-input-16-a42525c549b6>\u001b[0m in \u001b[0;36m<module>\u001b[0;34m\u001b[0m\n\u001b[0;32m----> 1\u001b[0;31m \u001b[0msn\u001b[0m\u001b[0;34m.\u001b[0m\u001b[0mnode_body3\u001b[0m\u001b[0;34m\u001b[0m\u001b[0;34m\u001b[0m\u001b[0m\n\u001b[0m",
            "\u001b[0;31mAttributeError\u001b[0m: 'SeekNet' object has no attribute 'node_body3'"
          ]
        }
      ],
      "source": [
        "sn.node_body3"
      ]
    }
  ],
  "metadata": {
    "colab": {
      "include_colab_link": true,
      "provenance": []
    },
    "kernelspec": {
      "display_name": "Python 3.9.12 ('base')",
      "language": "python",
      "name": "python3"
    },
    "language_info": {
      "codemirror_mode": {
        "name": "ipython",
        "version": 3
      },
      "file_extension": ".py",
      "mimetype": "text/x-python",
      "name": "python",
      "nbconvert_exporter": "python",
      "pygments_lexer": "ipython3",
      "version": "3.9.12"
    },
    "vscode": {
      "interpreter": {
        "hash": "bcf134a97cf35d729edb75de7cea1edb28bea10757ad5c92f86fe3d1af1ac098"
      }
    }
  },
  "nbformat": 4,
  "nbformat_minor": 0
}
